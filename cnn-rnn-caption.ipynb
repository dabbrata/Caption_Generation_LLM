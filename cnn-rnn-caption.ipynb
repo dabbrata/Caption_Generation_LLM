{
 "cells": [
  {
   "cell_type": "code",
   "execution_count": 1,
   "id": "c2a451e1",
   "metadata": {
    "_cell_guid": "b1076dfc-b9ad-4769-8c92-a6c4dae69d19",
    "_uuid": "8f2839f25d086af736a60e9eeb907d3b93b6e0e5",
    "execution": {
     "iopub.execute_input": "2025-03-26T03:58:46.441072Z",
     "iopub.status.busy": "2025-03-26T03:58:46.439892Z",
     "iopub.status.idle": "2025-03-26T03:58:52.882992Z",
     "shell.execute_reply": "2025-03-26T03:58:52.882023Z"
    },
    "papermill": {
     "duration": 6.455415,
     "end_time": "2025-03-26T03:58:52.885377",
     "exception": false,
     "start_time": "2025-03-26T03:58:46.429962",
     "status": "completed"
    },
    "tags": []
   },
   "outputs": [],
   "source": [
    "import numpy as np\n",
    "import pandas as pd\n",
    "import os\n",
    "import tensorflow as tf\n",
    "from tqdm import tqdm\n",
    "from tensorflow.keras.preprocessing.image import ImageDataGenerator, load_img, img_to_array\n",
    "from tensorflow.keras.preprocessing.text import Tokenizer\n",
    "from tensorflow.keras.preprocessing.sequence import pad_sequences\n",
    "from tensorflow.keras.utils import Sequence\n",
    "from tensorflow.keras.utils import to_categorical\n",
    "from tensorflow.keras.models import Sequential, Model\n",
    "from tensorflow.keras.layers import Conv2D, MaxPooling2D, GlobalAveragePooling2D, Activation, Dropout, Flatten, Dense, Input, Layer\n",
    "from tensorflow.keras.layers import Embedding, LSTM, add, Concatenate, Reshape, concatenate, Bidirectional\n",
    "from tensorflow.keras.applications import VGG16, ResNet50, DenseNet201\n",
    "from tensorflow.keras.optimizers import Adam\n",
    "from tensorflow.keras.callbacks import ModelCheckpoint, EarlyStopping, ReduceLROnPlateau\n",
    "import warnings\n",
    "import matplotlib.pyplot as plt\n",
    "import seaborn as sns\n",
    "from textwrap import wrap\n",
    "\n",
    "plt.rcParams['font.size'] = 12\n",
    "sns.set_style(\"dark\")\n",
    "warnings.filterwarnings('ignore')"
   ]
  },
  {
   "cell_type": "markdown",
   "id": "ba266313",
   "metadata": {
    "papermill": {
     "duration": 0.006644,
     "end_time": "2025-03-26T03:58:52.899288",
     "exception": false,
     "start_time": "2025-03-26T03:58:52.892644",
     "status": "completed"
    },
    "tags": []
   },
   "source": [
    "# **Image Captioning**\n",
    "\n",
    "**CNNs + RNNs (LSTMs)**\n",
    "- To perform Image Captioning we will require two deep learning models combined into one for the training purpose\n",
    "- CNNs extract the features from the image of some vector size aka the vector embeddings. The size of these embeddings depend on the type of pretrained network being used for the feature extraction\n",
    "- LSTMs are used for the text generation process. The image embeddings are concatenated with the word embeddings and passed to the LSTM to generate the next word\n",
    "- For a more illustrative explanation of this architecture check the Modelling section for a picture representation"
   ]
  },
  {
   "cell_type": "code",
   "execution_count": 2,
   "id": "d639d796",
   "metadata": {
    "execution": {
     "iopub.execute_input": "2025-03-26T03:58:52.927594Z",
     "iopub.status.busy": "2025-03-26T03:58:52.926909Z",
     "iopub.status.idle": "2025-03-26T03:58:52.931758Z",
     "shell.execute_reply": "2025-03-26T03:58:52.930807Z"
    },
    "papermill": {
     "duration": 0.014444,
     "end_time": "2025-03-26T03:58:52.933694",
     "exception": false,
     "start_time": "2025-03-26T03:58:52.919250",
     "status": "completed"
    },
    "tags": []
   },
   "outputs": [],
   "source": [
    "image_path = '../input/flickr8k/Images'"
   ]
  },
  {
   "cell_type": "code",
   "execution_count": 3,
   "id": "d05156b5",
   "metadata": {
    "execution": {
     "iopub.execute_input": "2025-03-26T03:58:52.948484Z",
     "iopub.status.busy": "2025-03-26T03:58:52.947881Z",
     "iopub.status.idle": "2025-03-26T03:58:53.060114Z",
     "shell.execute_reply": "2025-03-26T03:58:53.059209Z"
    },
    "papermill": {
     "duration": 0.1218,
     "end_time": "2025-03-26T03:58:53.062183",
     "exception": false,
     "start_time": "2025-03-26T03:58:52.940383",
     "status": "completed"
    },
    "tags": []
   },
   "outputs": [
    {
     "data": {
      "text/html": [
       "<div>\n",
       "<style scoped>\n",
       "    .dataframe tbody tr th:only-of-type {\n",
       "        vertical-align: middle;\n",
       "    }\n",
       "\n",
       "    .dataframe tbody tr th {\n",
       "        vertical-align: top;\n",
       "    }\n",
       "\n",
       "    .dataframe thead th {\n",
       "        text-align: right;\n",
       "    }\n",
       "</style>\n",
       "<table border=\"1\" class=\"dataframe\">\n",
       "  <thead>\n",
       "    <tr style=\"text-align: right;\">\n",
       "      <th></th>\n",
       "      <th>image</th>\n",
       "      <th>caption</th>\n",
       "    </tr>\n",
       "  </thead>\n",
       "  <tbody>\n",
       "    <tr>\n",
       "      <th>0</th>\n",
       "      <td>1000268201_693b08cb0e.jpg</td>\n",
       "      <td>A child in a pink dress is climbing up a set o...</td>\n",
       "    </tr>\n",
       "    <tr>\n",
       "      <th>1</th>\n",
       "      <td>1000268201_693b08cb0e.jpg</td>\n",
       "      <td>A girl going into a wooden building .</td>\n",
       "    </tr>\n",
       "    <tr>\n",
       "      <th>2</th>\n",
       "      <td>1000268201_693b08cb0e.jpg</td>\n",
       "      <td>A little girl climbing into a wooden playhouse .</td>\n",
       "    </tr>\n",
       "    <tr>\n",
       "      <th>3</th>\n",
       "      <td>1000268201_693b08cb0e.jpg</td>\n",
       "      <td>A little girl climbing the stairs to her playh...</td>\n",
       "    </tr>\n",
       "    <tr>\n",
       "      <th>4</th>\n",
       "      <td>1000268201_693b08cb0e.jpg</td>\n",
       "      <td>A little girl in a pink dress going into a woo...</td>\n",
       "    </tr>\n",
       "  </tbody>\n",
       "</table>\n",
       "</div>"
      ],
      "text/plain": [
       "                       image  \\\n",
       "0  1000268201_693b08cb0e.jpg   \n",
       "1  1000268201_693b08cb0e.jpg   \n",
       "2  1000268201_693b08cb0e.jpg   \n",
       "3  1000268201_693b08cb0e.jpg   \n",
       "4  1000268201_693b08cb0e.jpg   \n",
       "\n",
       "                                             caption  \n",
       "0  A child in a pink dress is climbing up a set o...  \n",
       "1              A girl going into a wooden building .  \n",
       "2   A little girl climbing into a wooden playhouse .  \n",
       "3  A little girl climbing the stairs to her playh...  \n",
       "4  A little girl in a pink dress going into a woo...  "
      ]
     },
     "execution_count": 3,
     "metadata": {},
     "output_type": "execute_result"
    }
   ],
   "source": [
    "data = pd.read_csv(\"../input/flickr8k/captions.txt\")\n",
    "data.head()"
   ]
  },
  {
   "cell_type": "code",
   "execution_count": 4,
   "id": "1e6458c7",
   "metadata": {
    "execution": {
     "iopub.execute_input": "2025-03-26T03:58:53.077754Z",
     "iopub.status.busy": "2025-03-26T03:58:53.076977Z",
     "iopub.status.idle": "2025-03-26T03:58:53.084480Z",
     "shell.execute_reply": "2025-03-26T03:58:53.083703Z"
    },
    "papermill": {
     "duration": 0.017125,
     "end_time": "2025-03-26T03:58:53.086373",
     "exception": false,
     "start_time": "2025-03-26T03:58:53.069248",
     "status": "completed"
    },
    "tags": []
   },
   "outputs": [],
   "source": [
    "def readImage(path,img_size=224):\n",
    "    img = load_img(path,color_mode='rgb',target_size=(img_size,img_size))\n",
    "    img = img_to_array(img)\n",
    "    img = img/255.\n",
    "    \n",
    "    return img\n",
    "\n",
    "def display_images(temp_df):\n",
    "    temp_df = temp_df.reset_index(drop=True)\n",
    "    plt.figure(figsize = (20 , 20))\n",
    "    n = 0\n",
    "    for i in range(15):\n",
    "        n+=1\n",
    "        plt.subplot(5 , 5, n)\n",
    "        plt.subplots_adjust(hspace = 0.7, wspace = 0.3)\n",
    "        image = readImage(f\"../input/flickr8k/Images/{temp_df.image[i]}\")\n",
    "        plt.imshow(image)\n",
    "        plt.title(\"\\n\".join(wrap(temp_df.caption[i], 20)))\n",
    "        plt.axis(\"off\")"
   ]
  },
  {
   "cell_type": "markdown",
   "id": "38ecb9ec",
   "metadata": {
    "papermill": {
     "duration": 0.020716,
     "end_time": "2025-03-26T03:58:54.806169",
     "exception": false,
     "start_time": "2025-03-26T03:58:54.785453",
     "status": "completed"
    },
    "tags": []
   },
   "source": [
    "# **Caption Text Preprocessing Steps**\n",
    "\n",
    "<img src='http://zjpnrm2br14wspo448nls17u-wpengine.netdna-ssl.com/wp-content/uploads/2020/09/processing-steps.png' >"
   ]
  },
  {
   "cell_type": "code",
   "execution_count": 6,
   "id": "904bd3fe",
   "metadata": {
    "execution": {
     "iopub.execute_input": "2025-03-26T03:58:54.847172Z",
     "iopub.status.busy": "2025-03-26T03:58:54.846774Z",
     "iopub.status.idle": "2025-03-26T03:58:54.853230Z",
     "shell.execute_reply": "2025-03-26T03:58:54.852438Z"
    },
    "papermill": {
     "duration": 0.029019,
     "end_time": "2025-03-26T03:58:54.855224",
     "exception": false,
     "start_time": "2025-03-26T03:58:54.826205",
     "status": "completed"
    },
    "tags": []
   },
   "outputs": [],
   "source": [
    "def text_preprocessing(data):\n",
    "    data['caption'] = data['caption'].apply(lambda x: x.lower())\n",
    "    data['caption'] = data['caption'].apply(lambda x: x.replace(\"[^A-Za-z]\",\"\"))\n",
    "    data['caption'] = data['caption'].apply(lambda x: x.replace(\"\\s+\",\" \"))\n",
    "    data['caption'] = data['caption'].apply(lambda x: \" \".join([word for word in x.split() if len(word)>1]))\n",
    "    data['caption'] = \"startseq \"+data['caption']+\" endseq\"\n",
    "    return data"
   ]
  },
  {
   "cell_type": "markdown",
   "id": "465364ff",
   "metadata": {
    "papermill": {
     "duration": 0.019438,
     "end_time": "2025-03-26T03:58:54.893816",
     "exception": false,
     "start_time": "2025-03-26T03:58:54.874378",
     "status": "completed"
    },
    "tags": []
   },
   "source": [
    "## __Preprocessed Text__"
   ]
  },
  {
   "cell_type": "code",
   "execution_count": 7,
   "id": "94d06000",
   "metadata": {
    "execution": {
     "iopub.execute_input": "2025-03-26T03:58:54.936867Z",
     "iopub.status.busy": "2025-03-26T03:58:54.936069Z",
     "iopub.status.idle": "2025-03-26T03:58:55.096871Z",
     "shell.execute_reply": "2025-03-26T03:58:55.095818Z"
    },
    "papermill": {
     "duration": 0.184509,
     "end_time": "2025-03-26T03:58:55.098988",
     "exception": false,
     "start_time": "2025-03-26T03:58:54.914479",
     "status": "completed"
    },
    "tags": []
   },
   "outputs": [
    {
     "data": {
      "text/plain": [
       "['startseq child in pink dress is climbing up set of stairs in an entry way endseq',\n",
       " 'startseq girl going into wooden building endseq',\n",
       " 'startseq little girl climbing into wooden playhouse endseq',\n",
       " 'startseq little girl climbing the stairs to her playhouse endseq',\n",
       " 'startseq little girl in pink dress going into wooden cabin endseq',\n",
       " 'startseq black dog and spotted dog are fighting endseq',\n",
       " 'startseq black dog and tri-colored dog playing with each other on the road endseq',\n",
       " 'startseq black dog and white dog with brown spots are staring at each other in the street endseq',\n",
       " 'startseq two dogs of different breeds looking at each other on the road endseq',\n",
       " 'startseq two dogs on pavement moving toward each other endseq']"
      ]
     },
     "execution_count": 7,
     "metadata": {},
     "output_type": "execute_result"
    }
   ],
   "source": [
    "data = text_preprocessing(data)\n",
    "captions = data['caption'].tolist()\n",
    "captions[:10]"
   ]
  },
  {
   "cell_type": "markdown",
   "id": "bd7365df",
   "metadata": {
    "papermill": {
     "duration": 0.019512,
     "end_time": "2025-03-26T03:58:55.139077",
     "exception": false,
     "start_time": "2025-03-26T03:58:55.119565",
     "status": "completed"
    },
    "tags": []
   },
   "source": [
    "## __Tokenization and Encoded Representation__\n",
    "- The words in a sentence are separated/tokenized and encoded in a one hot representation\n",
    "- These encodings are then passed to the embeddings layer to generate word embeddings\n",
    "\n",
    "<img src='https://lena-voita.github.io/resources/lectures/word_emb/lookup_table.gif'>"
   ]
  },
  {
   "cell_type": "code",
   "execution_count": 8,
   "id": "8bbf153a",
   "metadata": {
    "execution": {
     "iopub.execute_input": "2025-03-26T03:58:55.176975Z",
     "iopub.status.busy": "2025-03-26T03:58:55.176631Z",
     "iopub.status.idle": "2025-03-26T03:58:55.812161Z",
     "shell.execute_reply": "2025-03-26T03:58:55.811392Z"
    },
    "papermill": {
     "duration": 0.656857,
     "end_time": "2025-03-26T03:58:55.813953",
     "exception": false,
     "start_time": "2025-03-26T03:58:55.157096",
     "status": "completed"
    },
    "tags": []
   },
   "outputs": [
    {
     "data": {
      "text/plain": [
       "[1, 18, 315, 63, 195, 116, 2]"
      ]
     },
     "execution_count": 8,
     "metadata": {},
     "output_type": "execute_result"
    }
   ],
   "source": [
    "tokenizer = Tokenizer()\n",
    "tokenizer.fit_on_texts(captions)\n",
    "vocab_size = len(tokenizer.word_index) + 1\n",
    "max_length = max(len(caption.split()) for caption in captions)\n",
    "\n",
    "images = data['image'].unique().tolist()\n",
    "nimages = len(images)\n",
    "\n",
    "split_index = round(0.85*nimages)\n",
    "train_images = images[:split_index]\n",
    "val_images = images[split_index:]\n",
    "\n",
    "train = data[data['image'].isin(train_images)]\n",
    "test = data[data['image'].isin(val_images)]\n",
    "\n",
    "train.reset_index(inplace=True,drop=True)\n",
    "test.reset_index(inplace=True,drop=True)\n",
    "\n",
    "tokenizer.texts_to_sequences([captions[1]])[0]"
   ]
  },
  {
   "cell_type": "markdown",
   "id": "f6223f15",
   "metadata": {
    "papermill": {
     "duration": 0.018242,
     "end_time": "2025-03-26T03:58:55.850767",
     "exception": false,
     "start_time": "2025-03-26T03:58:55.832525",
     "status": "completed"
    },
    "tags": []
   },
   "source": [
    "# **Image Feature Extraction**\n",
    "- DenseNet 201 Architecture is used to extract the features from the images\n",
    "- Any other pretrained architecture can also be used for extracting features from these images\n",
    "- Since the Global Average Pooling layer is selected as the final layer of the DenseNet201 model for our feature extraction, our image embeddings will be a vector of size 1920\n",
    "\n",
    "<img src=\"https://imgur.com/wWHWbQt.jpg\">"
   ]
  },
  {
   "cell_type": "code",
   "execution_count": 9,
   "id": "9406234a",
   "metadata": {
    "execution": {
     "iopub.execute_input": "2025-03-26T03:58:55.891738Z",
     "iopub.status.busy": "2025-03-26T03:58:55.891061Z",
     "iopub.status.idle": "2025-03-26T04:10:47.457632Z",
     "shell.execute_reply": "2025-03-26T04:10:47.456692Z"
    },
    "papermill": {
     "duration": 711.590054,
     "end_time": "2025-03-26T04:10:47.459938",
     "exception": false,
     "start_time": "2025-03-26T03:58:55.869884",
     "status": "completed"
    },
    "tags": []
   },
   "outputs": [
    {
     "name": "stdout",
     "output_type": "stream",
     "text": [
      "Downloading data from https://storage.googleapis.com/tensorflow/keras-applications/densenet/densenet201_weights_tf_dim_ordering_tf_kernels.h5\n",
      "82526208/82524592 [==============================] - 1s 0us/step\n",
      "82534400/82524592 [==============================] - 1s 0us/step\n"
     ]
    },
    {
     "name": "stderr",
     "output_type": "stream",
     "text": [
      "100%|██████████| 8091/8091 [11:43<00:00, 11.50it/s]\n"
     ]
    }
   ],
   "source": [
    "model = DenseNet201()\n",
    "fe = Model(inputs=model.input, outputs=model.layers[-2].output)\n",
    "\n",
    "img_size = 224\n",
    "features = {}\n",
    "for image in tqdm(data['image'].unique().tolist()):\n",
    "    img = load_img(os.path.join(image_path,image),target_size=(img_size,img_size))\n",
    "    img = img_to_array(img)\n",
    "    img = img/255.\n",
    "    img = np.expand_dims(img,axis=0)\n",
    "    feature = fe.predict(img, verbose=0)\n",
    "    features[image] = feature"
   ]
  },
  {
   "cell_type": "markdown",
   "id": "5152adb0",
   "metadata": {
    "papermill": {
     "duration": 0.203725,
     "end_time": "2025-03-26T04:10:47.867624",
     "exception": false,
     "start_time": "2025-03-26T04:10:47.663899",
     "status": "completed"
    },
    "tags": []
   },
   "source": [
    "# **Data Generation**\n",
    "- Since Image Caption model training like any other neural network training is a highly resource utillizing process we cannot load the data into the main memory all at once, and hence we need to generate the data in the required format batch wise\n",
    "- The inputs will be the image embeddings and their corresonding caption text embeddings for the training process\n",
    "- The text embeddings are passed word by word for the caption generation during inference time"
   ]
  },
  {
   "cell_type": "code",
   "execution_count": 10,
   "id": "ecd83c3d",
   "metadata": {
    "execution": {
     "iopub.execute_input": "2025-03-26T04:10:48.272140Z",
     "iopub.status.busy": "2025-03-26T04:10:48.271718Z",
     "iopub.status.idle": "2025-03-26T04:10:48.284188Z",
     "shell.execute_reply": "2025-03-26T04:10:48.283468Z"
    },
    "papermill": {
     "duration": 0.215142,
     "end_time": "2025-03-26T04:10:48.285958",
     "exception": false,
     "start_time": "2025-03-26T04:10:48.070816",
     "status": "completed"
    },
    "tags": []
   },
   "outputs": [],
   "source": [
    "class CustomDataGenerator(Sequence):\n",
    "    \n",
    "    def __init__(self, df, X_col, y_col, batch_size, directory, tokenizer, \n",
    "                 vocab_size, max_length, features,shuffle=True):\n",
    "    \n",
    "        self.df = df.copy()\n",
    "        self.X_col = X_col\n",
    "        self.y_col = y_col\n",
    "        self.directory = directory\n",
    "        self.batch_size = batch_size\n",
    "        self.tokenizer = tokenizer\n",
    "        self.vocab_size = vocab_size\n",
    "        self.max_length = max_length\n",
    "        self.features = features\n",
    "        self.shuffle = shuffle\n",
    "        self.n = len(self.df)\n",
    "        \n",
    "    def on_epoch_end(self):\n",
    "        if self.shuffle:\n",
    "            self.df = self.df.sample(frac=1).reset_index(drop=True)\n",
    "    \n",
    "    def __len__(self):\n",
    "        return self.n // self.batch_size\n",
    "    \n",
    "    def __getitem__(self,index):\n",
    "    \n",
    "        batch = self.df.iloc[index * self.batch_size:(index + 1) * self.batch_size,:]\n",
    "        X1, X2, y = self.__get_data(batch)        \n",
    "        return (X1, X2), y\n",
    "    \n",
    "    def __get_data(self,batch):\n",
    "        \n",
    "        X1, X2, y = list(), list(), list()\n",
    "        \n",
    "        images = batch[self.X_col].tolist()\n",
    "           \n",
    "        for image in images:\n",
    "            feature = self.features[image][0]\n",
    "            \n",
    "            captions = batch.loc[batch[self.X_col]==image, self.y_col].tolist()\n",
    "            for caption in captions:\n",
    "                seq = self.tokenizer.texts_to_sequences([caption])[0]\n",
    "\n",
    "                for i in range(1,len(seq)):\n",
    "                    in_seq, out_seq = seq[:i], seq[i]\n",
    "                    in_seq = pad_sequences([in_seq], maxlen=self.max_length)[0]\n",
    "                    out_seq = to_categorical([out_seq], num_classes=self.vocab_size)[0]\n",
    "                    X1.append(feature)\n",
    "                    X2.append(in_seq)\n",
    "                    y.append(out_seq)\n",
    "            \n",
    "        X1, X2, y = np.array(X1), np.array(X2), np.array(y)\n",
    "                \n",
    "        return X1, X2, y"
   ]
  },
  {
   "cell_type": "markdown",
   "id": "4ccfadd7",
   "metadata": {
    "papermill": {
     "duration": 0.198315,
     "end_time": "2025-03-26T04:10:48.681578",
     "exception": false,
     "start_time": "2025-03-26T04:10:48.483263",
     "status": "completed"
    },
    "tags": []
   },
   "source": [
    "# **Modelling**\n",
    "- The image embedding representations are concatenated with the first word of sentence ie. starseq and passed to the LSTM network \n",
    "- The LSTM network starts generating words after each input thus forming a sentence at the end"
   ]
  },
  {
   "cell_type": "markdown",
   "id": "1494203a",
   "metadata": {
    "papermill": {
     "duration": 0.202876,
     "end_time": "2025-03-26T04:10:49.133547",
     "exception": false,
     "start_time": "2025-03-26T04:10:48.930671",
     "status": "completed"
    },
    "tags": []
   },
   "source": [
    "<img src='https://raw.githubusercontent.com/yunjey/pytorch-tutorial/master/tutorials/03-advanced/image_captioning/png/model.png'>"
   ]
  },
  {
   "cell_type": "code",
   "execution_count": 11,
   "id": "0c36de1d",
   "metadata": {
    "execution": {
     "iopub.execute_input": "2025-03-26T04:10:49.541068Z",
     "iopub.status.busy": "2025-03-26T04:10:49.540663Z",
     "iopub.status.idle": "2025-03-26T04:10:49.825703Z",
     "shell.execute_reply": "2025-03-26T04:10:49.824960Z"
    },
    "papermill": {
     "duration": 0.491348,
     "end_time": "2025-03-26T04:10:49.827788",
     "exception": false,
     "start_time": "2025-03-26T04:10:49.336440",
     "status": "completed"
    },
    "tags": []
   },
   "outputs": [],
   "source": [
    "input1 = Input(shape=(1920,))\n",
    "input2 = Input(shape=(max_length,))\n",
    "\n",
    "img_features = Dense(256, activation='relu')(input1)\n",
    "img_features_reshaped = Reshape((1, 256), input_shape=(256,))(img_features)\n",
    "\n",
    "sentence_features = Embedding(vocab_size, 256, mask_zero=False)(input2)\n",
    "merged = concatenate([img_features_reshaped,sentence_features],axis=1)\n",
    "sentence_features = LSTM(256)(merged)\n",
    "x = Dropout(0.5)(sentence_features)\n",
    "x = add([x, img_features])\n",
    "x = Dense(128, activation='relu')(x)\n",
    "x = Dropout(0.5)(x)\n",
    "output = Dense(vocab_size, activation='softmax')(x)\n",
    "\n",
    "caption_model = Model(inputs=[input1,input2], outputs=output)\n",
    "caption_model.compile(loss='categorical_crossentropy',optimizer='adam')"
   ]
  },
  {
   "cell_type": "code",
   "execution_count": 12,
   "id": "5739585c",
   "metadata": {
    "execution": {
     "iopub.execute_input": "2025-03-26T04:10:50.225454Z",
     "iopub.status.busy": "2025-03-26T04:10:50.225003Z",
     "iopub.status.idle": "2025-03-26T04:10:50.229278Z",
     "shell.execute_reply": "2025-03-26T04:10:50.228473Z"
    },
    "papermill": {
     "duration": 0.203359,
     "end_time": "2025-03-26T04:10:50.231157",
     "exception": false,
     "start_time": "2025-03-26T04:10:50.027798",
     "status": "completed"
    },
    "tags": []
   },
   "outputs": [],
   "source": [
    "from tensorflow.keras.utils import plot_model"
   ]
  },
  {
   "cell_type": "markdown",
   "id": "dbfb682f",
   "metadata": {
    "papermill": {
     "duration": 0.197417,
     "end_time": "2025-03-26T04:10:50.627315",
     "exception": false,
     "start_time": "2025-03-26T04:10:50.429898",
     "status": "completed"
    },
    "tags": []
   },
   "source": [
    "## **Model Modification**\n",
    "- A slight change has been made in the original model architecture to push the performance. The image feature embeddings are added to the output of the LSTMs and then passed on to the fully connected layers\n",
    "- This slightly improves the performance of the model orignally proposed back in 2014: __Show and Tell: A Neural Image Caption Generator__ (https://arxiv.org/pdf/1411.4555.pdf)"
   ]
  },
  {
   "cell_type": "code",
   "execution_count": 13,
   "id": "7fb71ea5",
   "metadata": {
    "execution": {
     "iopub.execute_input": "2025-03-26T04:10:51.084087Z",
     "iopub.status.busy": "2025-03-26T04:10:51.083695Z",
     "iopub.status.idle": "2025-03-26T04:10:52.215809Z",
     "shell.execute_reply": "2025-03-26T04:10:52.214749Z"
    },
    "papermill": {
     "duration": 1.382824,
     "end_time": "2025-03-26T04:10:52.217796",
     "exception": false,
     "start_time": "2025-03-26T04:10:50.834972",
     "status": "completed"
    },
    "tags": []
   },
   "outputs": [
    {
     "data": {
      "image/png": "[encoded data removed]",
      "text/plain": [
       "<IPython.core.display.Image object>"
      ]
     },
     "execution_count": 13,
     "metadata": {},
     "output_type": "execute_result"
    }
   ],
   "source": [
    "plot_model(caption_model)"
   ]
  },
  {
   "cell_type": "code",
   "execution_count": 14,
   "id": "6cc9e790",
   "metadata": {
    "execution": {
     "iopub.execute_input": "2025-03-26T04:10:52.628692Z",
     "iopub.status.busy": "2025-03-26T04:10:52.628267Z",
     "iopub.status.idle": "2025-03-26T04:10:52.636149Z",
     "shell.execute_reply": "2025-03-26T04:10:52.635253Z"
    },
    "papermill": {
     "duration": 0.214951,
     "end_time": "2025-03-26T04:10:52.638779",
     "exception": false,
     "start_time": "2025-03-26T04:10:52.423828",
     "status": "completed"
    },
    "tags": []
   },
   "outputs": [
    {
     "name": "stdout",
     "output_type": "stream",
     "text": [
      "Model: \"model_1\"\n",
      "__________________________________________________________________________________________________\n",
      "Layer (type)                    Output Shape         Param #     Connected to                     \n",
      "==================================================================================================\n",
      "input_2 (InputLayer)            [(None, 1920)]       0                                            \n",
      "__________________________________________________________________________________________________\n",
      "dense (Dense)                   (None, 256)          491776      input_2[0][0]                    \n",
      "__________________________________________________________________________________________________\n",
      "input_3 (InputLayer)            [(None, 34)]         0                                            \n",
      "__________________________________________________________________________________________________\n",
      "reshape (Reshape)               (None, 1, 256)       0           dense[0][0]                      \n",
      "__________________________________________________________________________________________________\n",
      "embedding (Embedding)           (None, 34, 256)      2172160     input_3[0][0]                    \n",
      "__________________________________________________________________________________________________\n",
      "concatenate (Concatenate)       (None, 35, 256)      0           reshape[0][0]                    \n",
      "                                                                 embedding[0][0]                  \n",
      "__________________________________________________________________________________________________\n",
      "lstm (LSTM)                     (None, 256)          525312      concatenate[0][0]                \n",
      "__________________________________________________________________________________________________\n",
      "dropout (Dropout)               (None, 256)          0           lstm[0][0]                       \n",
      "__________________________________________________________________________________________________\n",
      "add (Add)                       (None, 256)          0           dropout[0][0]                    \n",
      "                                                                 dense[0][0]                      \n",
      "__________________________________________________________________________________________________\n",
      "dense_1 (Dense)                 (None, 128)          32896       add[0][0]                        \n",
      "__________________________________________________________________________________________________\n",
      "dropout_1 (Dropout)             (None, 128)          0           dense_1[0][0]                    \n",
      "__________________________________________________________________________________________________\n",
      "dense_2 (Dense)                 (None, 8485)         1094565     dropout_1[0][0]                  \n",
      "==================================================================================================\n",
      "Total params: 4,316,709\n",
      "Trainable params: 4,316,709\n",
      "Non-trainable params: 0\n",
      "__________________________________________________________________________________________________\n"
     ]
    }
   ],
   "source": [
    "caption_model.summary()"
   ]
  },
  {
   "cell_type": "code",
   "execution_count": 15,
   "id": "4d84734e",
   "metadata": {
    "execution": {
     "iopub.execute_input": "2025-03-26T04:10:53.054288Z",
     "iopub.status.busy": "2025-03-26T04:10:53.053872Z",
     "iopub.status.idle": "2025-03-26T04:10:53.063905Z",
     "shell.execute_reply": "2025-03-26T04:10:53.063092Z"
    },
    "papermill": {
     "duration": 0.222323,
     "end_time": "2025-03-26T04:10:53.065749",
     "exception": false,
     "start_time": "2025-03-26T04:10:52.843426",
     "status": "completed"
    },
    "tags": []
   },
   "outputs": [],
   "source": [
    "train_generator = CustomDataGenerator(df=train,X_col='image',y_col='caption',batch_size=64,directory=image_path,\n",
    "                                      tokenizer=tokenizer,vocab_size=vocab_size,max_length=max_length,features=features)\n",
    "\n",
    "validation_generator = CustomDataGenerator(df=test,X_col='image',y_col='caption',batch_size=64,directory=image_path,\n",
    "                                      tokenizer=tokenizer,vocab_size=vocab_size,max_length=max_length,features=features)"
   ]
  },
  {
   "cell_type": "code",
   "execution_count": 16,
   "id": "e06e261b",
   "metadata": {
    "execution": {
     "iopub.execute_input": "2025-03-26T04:10:53.523047Z",
     "iopub.status.busy": "2025-03-26T04:10:53.522645Z",
     "iopub.status.idle": "2025-03-26T04:10:53.528750Z",
     "shell.execute_reply": "2025-03-26T04:10:53.527809Z"
    },
    "papermill": {
     "duration": 0.264214,
     "end_time": "2025-03-26T04:10:53.530509",
     "exception": false,
     "start_time": "2025-03-26T04:10:53.266295",
     "status": "completed"
    },
    "tags": []
   },
   "outputs": [],
   "source": [
    "model_name = \"model.h5\"\n",
    "checkpoint = ModelCheckpoint(model_name,\n",
    "                            monitor=\"val_loss\",\n",
    "                            mode=\"min\",\n",
    "                            save_best_only = True,\n",
    "                            verbose=1)\n",
    "\n",
    "earlystopping = EarlyStopping(monitor='val_loss',min_delta = 0, patience = 5, verbose = 1, restore_best_weights=True)\n",
    "\n",
    "learning_rate_reduction = ReduceLROnPlateau(monitor='val_loss', \n",
    "                                            patience=3, \n",
    "                                            verbose=1, \n",
    "                                            factor=0.2, \n",
    "                                            min_lr=0.00000001)"
   ]
  },
  {
   "cell_type": "code",
   "execution_count": 17,
   "id": "daf58e2a",
   "metadata": {
    "execution": {
     "iopub.execute_input": "2025-03-26T04:10:54.331914Z",
     "iopub.status.busy": "2025-03-26T04:10:54.331519Z",
     "iopub.status.idle": "2025-03-26T04:22:17.539350Z",
     "shell.execute_reply": "2025-03-26T04:22:17.538409Z"
    },
    "papermill": {
     "duration": 683.908893,
     "end_time": "2025-03-26T04:22:18.043490",
     "exception": false,
     "start_time": "2025-03-26T04:10:54.134597",
     "status": "completed"
    },
    "tags": []
   },
   "outputs": [
    {
     "name": "stdout",
     "output_type": "stream",
     "text": [
      "Epoch 1/30\n",
      "537/537 [==============================] - 215s 396ms/step - loss: 5.1051 - val_loss: 4.2284\n",
      "\n",
      "Epoch 00001: val_loss improved from inf to 4.22841, saving model to model.h5\n",
      "Epoch 2/30\n",
      "537/537 [==============================] - 41s 76ms/step - loss: 4.1779 - val_loss: 3.9083\n",
      "\n",
      "Epoch 00002: val_loss improved from 4.22841 to 3.90826, saving model to model.h5\n",
      "Epoch 3/30\n",
      "537/537 [==============================] - 41s 76ms/step - loss: 3.9157 - val_loss: 3.7745\n",
      "\n",
      "Epoch 00003: val_loss improved from 3.90826 to 3.77454, saving model to model.h5\n",
      "Epoch 4/30\n",
      "537/537 [==============================] - 42s 77ms/step - loss: 3.7522 - val_loss: 3.7003\n",
      "\n",
      "Epoch 00004: val_loss improved from 3.77454 to 3.70034, saving model to model.h5\n",
      "Epoch 5/30\n",
      "537/537 [==============================] - 43s 79ms/step - loss: 3.6369 - val_loss: 3.6578\n",
      "\n",
      "Epoch 00005: val_loss improved from 3.70034 to 3.65778, saving model to model.h5\n",
      "Epoch 6/30\n",
      "537/537 [==============================] - 42s 78ms/step - loss: 3.5382 - val_loss: 3.6391\n",
      "\n",
      "Epoch 00006: val_loss improved from 3.65778 to 3.63906, saving model to model.h5\n",
      "Epoch 7/30\n",
      "537/537 [==============================] - 43s 81ms/step - loss: 3.4665 - val_loss: 3.6279\n",
      "\n",
      "Epoch 00007: val_loss improved from 3.63906 to 3.62791, saving model to model.h5\n",
      "Epoch 8/30\n",
      "537/537 [==============================] - 44s 81ms/step - loss: 3.4007 - val_loss: 3.6286\n",
      "\n",
      "Epoch 00008: val_loss did not improve from 3.62791\n",
      "Epoch 9/30\n",
      "537/537 [==============================] - 43s 79ms/step - loss: 3.3457 - val_loss: 3.6352\n",
      "\n",
      "Epoch 00009: val_loss did not improve from 3.62791\n",
      "Epoch 10/30\n",
      "537/537 [==============================] - 43s 80ms/step - loss: 3.2955 - val_loss: 3.6380\n",
      "\n",
      "Epoch 00010: val_loss did not improve from 3.62791\n",
      "\n",
      "Epoch 00010: ReduceLROnPlateau reducing learning rate to 0.00020000000949949026.\n",
      "Epoch 11/30\n",
      "537/537 [==============================] - 43s 79ms/step - loss: 3.1825 - val_loss: 3.6454\n",
      "\n",
      "Epoch 00011: val_loss did not improve from 3.62791\n",
      "Epoch 12/30\n",
      "537/537 [==============================] - 43s 79ms/step - loss: 3.1519 - val_loss: 3.6459\n",
      "\n",
      "Epoch 00012: val_loss did not improve from 3.62791\n",
      "Restoring model weights from the end of the best epoch.\n",
      "Epoch 00012: early stopping\n"
     ]
    }
   ],
   "source": [
    "history = caption_model.fit(\n",
    "        train_generator,\n",
    "        epochs=30,\n",
    "        validation_data=validation_generator,\n",
    "        callbacks=[checkpoint,earlystopping,learning_rate_reduction])"
   ]
  },
  {
   "cell_type": "code",
   "execution_count": 18,
   "id": "033c50fb",
   "metadata": {
    "execution": {
     "iopub.execute_input": "2025-03-26T04:22:19.162613Z",
     "iopub.status.busy": "2025-03-26T04:22:19.162238Z",
     "iopub.status.idle": "2025-03-26T04:22:20.396937Z",
     "shell.execute_reply": "2025-03-26T04:22:20.396264Z"
    },
    "papermill": {
     "duration": 1.766002,
     "end_time": "2025-03-26T04:22:20.399558",
     "exception": false,
     "start_time": "2025-03-26T04:22:18.633556",
     "status": "completed"
    },
    "tags": []
   },
   "outputs": [],
   "source": [
    "model.save('/kaggle/working/caption_model.keras')"
   ]
  },
  {
   "cell_type": "markdown",
   "id": "ab3dc520",
   "metadata": {
    "papermill": {
     "duration": 0.586941,
     "end_time": "2025-03-26T04:22:21.560621",
     "exception": false,
     "start_time": "2025-03-26T04:22:20.973680",
     "status": "completed"
    },
    "tags": []
   },
   "source": [
    "# **Inference**\n",
    "- Learning Curve (Loss Curve)\n",
    "- Assessment of Generated Captions (by checking the relevance of the caption with respect to the image, BLEU Score will not be used in this kernel)"
   ]
  },
  {
   "cell_type": "markdown",
   "id": "7aa8fb74",
   "metadata": {
    "papermill": {
     "duration": 0.535108,
     "end_time": "2025-03-26T04:22:22.716671",
     "exception": false,
     "start_time": "2025-03-26T04:22:22.181563",
     "status": "completed"
    },
    "tags": []
   },
   "source": [
    "## **Learning Curve**\n"
   ]
  },
  {
   "cell_type": "code",
   "execution_count": 19,
   "id": "caa8666b",
   "metadata": {
    "execution": {
     "iopub.execute_input": "2025-03-26T04:22:23.843569Z",
     "iopub.status.busy": "2025-03-26T04:22:23.843170Z",
     "iopub.status.idle": "2025-03-26T04:22:24.137330Z",
     "shell.execute_reply": "2025-03-26T04:22:24.136349Z"
    },
    "papermill": {
     "duration": 0.887591,
     "end_time": "2025-03-26T04:22:24.139545",
     "exception": false,
     "start_time": "2025-03-26T04:22:23.251954",
     "status": "completed"
    },
    "tags": []
   },
   "outputs": [
    {
     "data": {
      "image/png": "[encoded data removed]",
      "text/plain": [
       "<Figure size 1440x576 with 1 Axes>"
      ]
     },
     "metadata": {},
     "output_type": "display_data"
    }
   ],
   "source": [
    "plt.figure(figsize=(20,8))\n",
    "plt.plot(history.history['loss'])\n",
    "plt.plot(history.history['val_loss'])\n",
    "plt.title('model loss')\n",
    "plt.ylabel('loss')\n",
    "plt.xlabel('epoch')\n",
    "plt.legend(['train', 'val'], loc='upper left')\n",
    "plt.show()"
   ]
  },
  {
   "cell_type": "markdown",
   "id": "4e266749",
   "metadata": {
    "papermill": {
     "duration": 0.588397,
     "end_time": "2025-03-26T04:22:25.266676",
     "exception": false,
     "start_time": "2025-03-26T04:22:24.678279",
     "status": "completed"
    },
    "tags": []
   },
   "source": [
    "## **Caption Generation Utility Functions**\n",
    "- Utility functions to generate the captions of input images at the inference time.\n",
    "- Here the image embeddings are passed along with the first word, followed by which the text embedding of each new word is passed to generate the next word"
   ]
  },
  {
   "cell_type": "code",
   "execution_count": 20,
   "id": "cb42a742",
   "metadata": {
    "execution": {
     "iopub.execute_input": "2025-03-26T04:22:26.401217Z",
     "iopub.status.busy": "2025-03-26T04:22:26.400485Z",
     "iopub.status.idle": "2025-03-26T04:22:26.405431Z",
     "shell.execute_reply": "2025-03-26T04:22:26.404480Z"
    },
    "papermill": {
     "duration": 0.577383,
     "end_time": "2025-03-26T04:22:26.407199",
     "exception": false,
     "start_time": "2025-03-26T04:22:25.829816",
     "status": "completed"
    },
    "tags": []
   },
   "outputs": [],
   "source": [
    "def idx_to_word(integer,tokenizer):\n",
    "    \n",
    "    for word, index in tokenizer.word_index.items():\n",
    "        if index==integer:\n",
    "            return word\n",
    "    return None"
   ]
  },
  {
   "cell_type": "code",
   "execution_count": 21,
   "id": "95328970",
   "metadata": {
    "execution": {
     "iopub.execute_input": "2025-03-26T04:22:27.428920Z",
     "iopub.status.busy": "2025-03-26T04:22:27.428545Z",
     "iopub.status.idle": "2025-03-26T04:22:27.434999Z",
     "shell.execute_reply": "2025-03-26T04:22:27.434204Z"
    },
    "papermill": {
     "duration": 0.512681,
     "end_time": "2025-03-26T04:22:27.436790",
     "exception": false,
     "start_time": "2025-03-26T04:22:26.924109",
     "status": "completed"
    },
    "tags": []
   },
   "outputs": [],
   "source": [
    "def predict_caption(model, image, tokenizer, max_length, features):\n",
    "    \n",
    "    feature = features[image]\n",
    "    in_text = \"startseq\"\n",
    "    for i in range(max_length):\n",
    "        sequence = tokenizer.texts_to_sequences([in_text])[0]\n",
    "        sequence = pad_sequences([sequence], max_length)\n",
    "\n",
    "        y_pred = model.predict([feature,sequence])\n",
    "        y_pred = np.argmax(y_pred)\n",
    "        \n",
    "        word = idx_to_word(y_pred, tokenizer)\n",
    "        \n",
    "        if word is None:\n",
    "            break\n",
    "            \n",
    "        in_text+= \" \" + word\n",
    "        \n",
    "        if word == 'endseq':\n",
    "            break\n",
    "            \n",
    "    return in_text "
   ]
  },
  {
   "cell_type": "code",
   "execution_count": 22,
   "id": "eee2c4cd",
   "metadata": {
    "execution": {
     "iopub.execute_input": "2025-03-26T04:22:29.582737Z",
     "iopub.status.busy": "2025-03-26T04:22:29.582350Z",
     "iopub.status.idle": "2025-03-26T04:22:29.587275Z",
     "shell.execute_reply": "2025-03-26T04:22:29.586545Z"
    },
    "papermill": {
     "duration": 0.564147,
     "end_time": "2025-03-26T04:22:29.588921",
     "exception": false,
     "start_time": "2025-03-26T04:22:29.024774",
     "status": "completed"
    },
    "tags": []
   },
   "outputs": [],
   "source": [
    "samples = test.sample(15)\n",
    "samples.reset_index(drop=True,inplace=True)"
   ]
  },
  {
   "cell_type": "code",
   "execution_count": 23,
   "id": "162a1d51",
   "metadata": {
    "execution": {
     "iopub.execute_input": "2025-03-26T04:22:30.659838Z",
     "iopub.status.busy": "2025-03-26T04:22:30.659452Z",
     "iopub.status.idle": "2025-03-26T04:22:36.297481Z",
     "shell.execute_reply": "2025-03-26T04:22:36.296540Z"
    },
    "papermill": {
     "duration": 6.204707,
     "end_time": "2025-03-26T04:22:36.299866",
     "exception": false,
     "start_time": "2025-03-26T04:22:30.095159",
     "status": "completed"
    },
    "tags": []
   },
   "outputs": [],
   "source": [
    "for index,record in samples.iterrows():\n",
    "\n",
    "    img = load_img(os.path.join(image_path,record['image']),target_size=(224,224))\n",
    "    img = img_to_array(img)\n",
    "    img = img/255.\n",
    "    \n",
    "    caption = predict_caption(caption_model, record['image'], tokenizer, max_length, features)\n",
    "    samples.loc[index,'caption'] = caption"
   ]
  }
 ],
 "metadata": {
  "kaggle": {
   "accelerator": "gpu",
   "dataSources": [
    {
     "datasetId": 31296,
     "sourceId": 39911,
     "sourceType": "datasetVersion"
    },
    {
     "datasetId": 623289,
     "sourceId": 1111676,
     "sourceType": "datasetVersion"
    }
   ],
   "dockerImageVersionId": 30198,
   "isGpuEnabled": true,
   "isInternetEnabled": true,
   "language": "python",
   "sourceType": "notebook"
  },
  "kernelspec": {
   "display_name": "Python 3",
   "language": "python",
   "name": "python3"
  },
  "language_info": {
   "codemirror_mode": {
    "name": "ipython",
    "version": 3
   },
   "file_extension": ".py",
   "mimetype": "text/x-python",
   "name": "python",
   "nbconvert_exporter": "python",
   "pygments_lexer": "ipython3",
   "version": "3.7.12"
  },
  "papermill": {
   "default_parameters": {},
   "duration": 1446.414224,
   "end_time": "2025-03-26T04:22:45.003361",
   "environment_variables": {},
   "exception": null,
   "input_path": "__notebook__.ipynb",
   "output_path": "__notebook__.ipynb",
   "parameters": {},
   "start_time": "2025-03-26T03:58:38.589137",
   "version": "2.3.4"
  }
 },
 "nbformat": 4,
 "nbformat_minor": 5
}
